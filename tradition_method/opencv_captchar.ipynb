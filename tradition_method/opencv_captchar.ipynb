{
 "cells": [
  {
   "cell_type": "code",
   "execution_count": 4,
   "metadata": {
    "collapsed": true
   },
   "outputs": [],
   "source": [
    "import cv2\n",
    "import numpy as np\n",
    "import matplotlib.pyplot as plt  # 这里是为了显示图片，最后完整版的代码中将去掉"
   ]
  },
  {
   "cell_type": "markdown",
   "metadata": {},
   "source": [
    "**一、读取原图像并显示**"
   ]
  },
  {
   "cell_type": "code",
   "execution_count": 6,
   "metadata": {},
   "outputs": [
    {
     "data": {
      "image/png": "[encoded data removed]",
      "text/plain": [
       "<matplotlib.figure.Figure at 0x1b9a502d358>"
      ]
     },
     "metadata": {},
     "output_type": "display_data"
    }
   ],
   "source": [
    "img_path = \"../cnn_tensorflow/res_image/000b.png\"\n",
    "img = cv2.imread(img_path)\n",
    "plt.title(\"origin image\")\n",
    "plt.imshow(img)\n",
    "plt.show()"
   ]
  },
  {
   "cell_type": "markdown",
   "metadata": {},
   "source": [
    "**二、图像二值化。**仔细检查原始图像的RGB通道，发现无法直接二值化，考虑转化到HSV通道，此时刚好有门限可以进行二值化"
   ]
  },
  {
   "cell_type": "code",
   "execution_count": 7,
   "metadata": {},
   "outputs": [
    {
     "data": {
      "image/png": "[encoded data removed]",
      "text/plain": [
       "<matplotlib.figure.Figure at 0x1b9bef6c9b0>"
      ]
     },
     "metadata": {},
     "output_type": "display_data"
    }
   ],
   "source": [
    "img_h, img_w = img.shape[:2]\n",
    "img_bi = np.zeros([img_h, img_w], dtype=np.uint8)    #原始图像的二值化图\n",
    "img = cv2.cvtColor(img, cv2.COLOR_BGR2HSV)\n",
    "for i in range(img_h):\n",
    "    for j in range(img_w):\n",
    "        if img[i, j, 0] > 0 and img[i, j, 1] > 160:\n",
    "            img_bi[i, j] = 255\n",
    "            \n",
    "plt.title(\"binary image\")\n",
    "plt.imshow(img_bi)\n",
    "plt.show()"
   ]
  },
  {
   "cell_type": "markdown",
   "metadata": {},
   "source": [
    "**三、字符分割。**由于验证码字符之间存在粘着的现象，给字符分割造成了一定麻烦，在网上搜索资料时，发现相关算法都可以整理成论文了。这里我们采用一种相对简便的方法：基于漫水填充，主要思想是：  \n",
    "1、将所有字符涂抹成一个整体  \n",
    "2、计算围绕每个整体的最小闭合矩形，用于统计每个字符的宽度，这里可以对所有验证码统计一遍，取均值  \n",
    "3、根据字符的宽度进行划分，如果整体的宽度为单个字符宽度的两倍，则将整体均分，得到两个字符（认为该整体含有两个字符，同理三个、四个字符）  \n",
    "最终虽然准确率不够高，但勉强能用。"
   ]
  },
  {
   "cell_type": "code",
   "execution_count": 8,
   "metadata": {},
   "outputs": [
    {
     "data": {
      "image/png": "[encoded data removed]",
      "text/plain": [
       "<matplotlib.figure.Figure at 0x1b9bc68bf60>"
      ]
     },
     "metadata": {},
     "output_type": "display_data"
    }
   ],
   "source": [
    "# 首先将字符涂抹成整体\n",
    "img_floodfill = img_bi.copy()\n",
    "mask = np.zeros((img_h + 2, img_w + 2), np.uint8)  # 首先创建一个mask，注意尺寸比原始图大2个像素\n",
    "cv2.floodFill(img_floodfill, mask, (0, 0), 255)  # 调用opencv的floodFill函数，进行填充\n",
    "img_floodfill = cv2.bitwise_not(img_floodfill)   # 填充图按位取反\n",
    "img_bi_filled = img_bi | img_floodfill           # 取反后的填充图，与原始二值图取并集，得到填充的前景\n",
    "\n",
    "plt.title(\"flood filled image\")\n",
    "plt.imshow(img_bi_filled)\n",
    "plt.show()"
   ]
  },
  {
   "cell_type": "code",
   "execution_count": 16,
   "metadata": {},
   "outputs": [
    {
     "data": {
      "image/png": "[encoded data removed]",
      "text/plain": [
       "<matplotlib.figure.Figure at 0x1b9bf087588>"
      ]
     },
     "metadata": {},
     "output_type": "display_data"
    }
   ],
   "source": [
    "# 统计字符宽度的部分这里略去，最终统计的结果是：单个字符宽度在19个像素以内，两个则是31以内，三个则是41以内。。\n",
    "# 接下来根据统计结果进行划分\n",
    "im, contours, hierarchy = cv2.findContours(img_bi_filled, 1, 2)  # 找到围绕字符整体的最小闭合矩形\n",
    "bound_list = []    # 定义一个list来存放每个字符的边界，格式是：横坐标，宽度，横坐标，宽度。。。\n",
    "for contour in contours:\n",
    "    x, y, w, h = cv2.boundingRect(contour)\n",
    "    if w < 19:\n",
    "        bound_list.append(x)\n",
    "        bound_list.append(w)\n",
    "    elif w < 31:\n",
    "        bound_list.append(x)\n",
    "        bound_list.append(w/2)\n",
    "        bound_list.append(x+w/2)\n",
    "        bound_list.append(w/2)\n",
    "    elif w < 41:\n",
    "        bound_list.append(x)\n",
    "        bound_list.append(w/3)\n",
    "        bound_list.append(x+w/3)\n",
    "        bound_list.append(w/3)\n",
    "        bound_list.append(x+w*2/3)\n",
    "        bound_list.append(w/3)\n",
    "    else:\n",
    "        bound_list.append(x)\n",
    "        bound_list.append(w/4)\n",
    "        bound_list.append(x+w/4)\n",
    "        bound_list.append(w/4)\n",
    "        bound_list.append(x+w*2/4)\n",
    "        bound_list.append(w/4)\n",
    "        bound_list.append(x+w*3/4)\n",
    "        bound_list.append(w/4)\n",
    "\n",
    "# 此时可以看一下划分得是否准确(这里只画出了七根线，因为两个“0”之间的线重复了)\n",
    "img_show = cv2.cvtColor(img_bi, cv2.COLOR_GRAY2BGR)\n",
    "plt.title(\"splitted image\")\n",
    "plt.imshow(img_show)\n",
    "for i in range(0, len(bound_list), 2):\n",
    "    plt.vlines(int(bound_list[i]), 0, img_h, colors = \"r\", linestyles = \"dashed\")\n",
    "    plt.vlines(int(bound_list[i]) + int(bound_list[i+1]), 0, img_h, colors = \"r\", linestyles = \"dashed\")\n",
    "plt.show()"
   ]
  },
  {
   "cell_type": "markdown",
   "metadata": {},
   "source": [
    "**四、对分割后的每个字符单独识别。**做到这一步，还是搁浅了，继续往后有三条路可选：  \n",
    "1、利用模板匹配  \n",
    "2、利用pytesseract库进行识别（这个尝试过，无奈识别不准，还需要自行训练）  \n",
    "3、利用深度学习对单个字符进行训练识别  \n",
    "最近事情太多，最终还是选择了直接对整张图片进行训练，这里就当是个探索性的工作了。"
   ]
  },
  {
   "cell_type": "code",
   "execution_count": 18,
   "metadata": {},
   "outputs": [],
   "source": [
    "# 最后给出完整代码\n",
    "import cv2\n",
    "import numpy as np\n",
    "\n",
    "img_path = \"../cnn_tensorflow/res_image/000b.png\"\n",
    "img = cv2.imread(img_path)\n",
    "\n",
    "img_h, img_w = img.shape[:2]\n",
    "img_bi = np.zeros([img_h, img_w], dtype=np.uint8)    #原始图像的二值化图\n",
    "img = cv2.cvtColor(img, cv2.COLOR_BGR2HSV)\n",
    "for i in range(img_h):\n",
    "    for j in range(img_w):\n",
    "        if img[i, j, 0] > 0 and img[i, j, 1] > 160:\n",
    "            img_bi[i, j] = 255\n",
    "\n",
    "img_floodfill = img_bi.copy()\n",
    "mask = np.zeros((img_h + 2, img_w + 2), np.uint8)  # 首先创建一个mask，注意尺寸比原始图大2个像素\n",
    "cv2.floodFill(img_floodfill, mask, (0, 0), 255)  # 调用opencv的floodFill函数，进行填充\n",
    "img_floodfill = cv2.bitwise_not(img_floodfill)   # 填充图按位取反\n",
    "img_bi_filled = img_bi | img_floodfill           # 取反后的填充图，与原始二值图取并集，得到填充的前景\n",
    "\n",
    "im, contours, hierarchy = cv2.findContours(img_bi_filled, 1, 2)  # 找到围绕字符整体的最小闭合矩形\n",
    "bound_list = []    # 定义一个list来存放每个字符的边界，格式是：横坐标，宽度，横坐标，宽度。。。\n",
    "for contour in contours:\n",
    "    x, y, w, h = cv2.boundingRect(contour)\n",
    "    if w < 19:\n",
    "        bound_list.append(x)\n",
    "        bound_list.append(w)\n",
    "    elif w < 31:\n",
    "        bound_list.append(x)\n",
    "        bound_list.append(w/2)\n",
    "        bound_list.append(x+w/2)\n",
    "        bound_list.append(w/2)\n",
    "    elif w < 41:\n",
    "        bound_list.append(x)\n",
    "        bound_list.append(w/3)\n",
    "        bound_list.append(x+w/3)\n",
    "        bound_list.append(w/3)\n",
    "        bound_list.append(x+w*2/3)\n",
    "        bound_list.append(w/3)\n",
    "    else:\n",
    "        bound_list.append(x)\n",
    "        bound_list.append(w/4)\n",
    "        bound_list.append(x+w/4)\n",
    "        bound_list.append(w/4)\n",
    "        bound_list.append(x+w*2/4)\n",
    "        bound_list.append(w/4)\n",
    "        bound_list.append(x+w*3/4)\n",
    "        bound_list.append(w/4)"
   ]
  },
  {
   "cell_type": "code",
   "execution_count": null,
   "metadata": {
    "collapsed": true
   },
   "outputs": [],
   "source": []
  }
 ],
 "metadata": {
  "kernelspec": {
   "display_name": "Python 3",
   "language": "python",
   "name": "python3"
  },
  "language_info": {
   "codemirror_mode": {
    "name": "ipython",
    "version": 3
   },
   "file_extension": ".py",
   "mimetype": "text/x-python",
   "name": "python",
   "nbconvert_exporter": "python",
   "pygments_lexer": "ipython3",
   "version": "3.6.1"
  }
 },
 "nbformat": 4,
 "nbformat_minor": 2
}
